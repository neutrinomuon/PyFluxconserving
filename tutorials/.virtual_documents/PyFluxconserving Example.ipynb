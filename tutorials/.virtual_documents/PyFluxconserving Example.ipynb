





# First, import libraries 
import numpy as np
from matplotlib import pyplot as plt

from astropy.io import fits
from astropy import units as u
from astropy.visualization import quantity_support
#quantity_support()


# Example of a downloaded spectrum from SDSS (you need internet connection)

f = fits.open('https://data.sdss.org/sas/dr16/sdss/spectro/redux/26/spectra/1323/spec-1323-52797-0012.fits')  

# The spectrum is in the second HDU of this file.
specdata = f[1].data[1020:1250] 
f.close() 


# Incorporate inside Spectrum1D function from specutils
from specutils import Spectrum1D
lamb = 10**specdata['loglam'] * u.AA 
flux = specdata['flux'] * 10**-17 * u.Unit('erg cm-2 s-1 AA-1') 
input_spec = Spectrum1D(spectral_axis=lamb, flux=flux)
#print(flux)


# Produce a plot of the spectrum. We can see Hbeta and [OIII] 5009 Angstrom lines.
plt.plot(lamb,flux)
plt.xlabel(r"Wavelength [$\AA$]")
plt.ylabel("Density Flux")


# Create new arrays for the wavelength. The new bins to be interpolated using flux-conservation
new_disp_grid_0_20 = np.arange(4800, 5200, 0.20) * u.AA
new_disp_grid_4_33 = np.arange(4800, 5200, 4.33) * u.AA

print("values: ",new_disp_grid_4_33.value)
print("unit: ",new_disp_grid_4_33.unit)
print(lamb[0],lamb[-1])


# So, here we will use the pyfluxconserving routine and import the fortran library for interpolations called flib.
# We will use, specifically, the fluxconspec interpolation, for flux-density conservation
from pyfluxconserving import flib as fcon
# If you need to print its content
#print(fcon.__doc__)

fill_val  = 0.0
verbosity = 0
per_bins  = 1
slow_int  = 0
orfluxes_0_20,iskeepon = fcon.fluxconspec(new_disp_grid_0_20,lamb,flux,per_bins,slow_int,fill_val=fill_val,verbosity=verbosity)
orfluxes_4_33,iskeepon = fcon.fluxconspec(new_disp_grid_4_33,lamb,flux,per_bins,slow_int,fill_val=fill_val,verbosity=verbosity)

plt.plot( lamb,flux,linewidth=6 )
#plt.step( new_disp_grid_0_20,model_resampled_0_20 )
plt.step( new_disp_grid_4_33,model_resampled_4_33,color='red' )
#plt.step( new_disp_grid_0_20,orfluxes_0_20 )
plt.step( new_disp_grid_4_33,orfluxes_4_33,color='black',linestyle='--' )

plt.step( new_spec_fluxcon_4_33.spectral_axis, new_spec_fluxcon_4_33.flux_corr,color='darkorange',linestyle='dotted' )





# Now we are going to use specutils for flux-conservation in order to compare with pyfluxconserving
from specutils.manipulation import FluxConservingResampler, LinearInterpolatedResampler, SplineInterpolatedResampler

# Flux Conserving Resampler. We can have several NaN values:

fluxcon = FluxConservingResampler()
new_spec_fluxcon_0_20 = fluxcon(input_spec, new_disp_grid_0_20) 
new_spec_fluxcon_4_33 = fluxcon(input_spec, new_disp_grid_4_33) 

fill_val = 0.0
new_spec_fluxcon_0_20.flux_corr = np.where( np.isnan(new_spec_fluxcon_0_20.flux.value) , 0.0 * new_spec_fluxcon_0_20.flux.unit , new_spec_fluxcon_0_20.flux )
new_spec_fluxcon_4_33.flux_corr = np.where( np.isnan(new_spec_fluxcon_4_33.flux.value) , 0.0 * new_spec_fluxcon_4_33.flux.unit , new_spec_fluxcon_4_33.flux )

#print(fluxcon.__doc__)

# Plot result
f, ax = plt.subplots()  

ax.plot( lamb,flux,linewidth=6 )
ax.step( new_spec_fluxcon_0_20.spectral_axis, new_spec_fluxcon_0_20.flux_corr )
ax.step( new_spec_fluxcon_4_33.spectral_axis, new_spec_fluxcon_4_33.flux_corr )

ax.set_xlabel(r"Wavelength [$\AA$]")
ax.set_ylabel("Density Flux")


# Import spectres to compare the flux-density conservation 
import spectres

fill_val = 0.0
#print(spectres.spectral_resampling.spectres.__doc__)

model_resampled_0_20 = spectres.spectral_resampling_numba.spectres_numba( new_disp_grid_0_20.value, lamb.value, flux.value, fill=fill_val)
model_resampled_4_33 = spectres.spectral_resampling_numba.spectres_numba( new_disp_grid_4_33.value, lamb.value, flux.value, fill=fill_val)

plt.plot( lamb,flux,linewidth=6 )
plt.step( new_disp_grid_0_20,model_resampled_0_20 )
plt.step( new_disp_grid_4_33,model_resampled_4_33 )





# Verify total area, total integration

A_original = np.trapz( flux, x=lamb )
print("Original curve: ",A_original)

A_fortran = np.trapz( orfluxes_4_33 * u.Unit('erg cm-2 s-1 AA-1') , x=new_disp_grid_4_33 )
print("Flux-conserving interpolation from pyfluxconserving: ",A_fortran)

A_specutils = np.trapz( new_spec_fluxcon_4_33.flux_corr * u.Unit('erg cm-2 s-1 AA-1') , x=new_disp_grid_4_33 )
print("Flux-conserving interpolation from specutils: ",A_specutils)

A_spectres = np.trapz( model_resampled_4_33 * u.Unit('erg cm-2 s-1 AA-1') , x=new_disp_grid_4_33 )
print("Flux-conserving interpolation from spectres: ",A_spectres)

# Numpy trapezoidal integration fails to capture the limits.


# Now, using a better integration scheme
from pyintegralall import flib as integral

# integralall,iskeepon = integral.integralall( x,y,lambda_i,lambda_f,int_type=int_type,verbosity=0 )
lambda_i = lamb[0].value
lambda_f = lamb[-1].value

print("Integration from: ",lambda_i,lambda_f)

A_original,iskeepon = integral.integralall( lamb,flux,lambda_i,lambda_f )

print("Original curve: ",A_original)


A_fortran,iskeepon = integral.integralall( new_disp_grid_4_33,orfluxes_4_33,lambda_i,lambda_f )
print("Flux-conserving interpolation from pyfluxconserving: ",A_fortran)


A_specutils,iskeepon = integral.integralall( new_disp_grid_4_33,new_spec_fluxcon_4_33.flux_corr,lambda_i,lambda_f )
print("Flux-conserving interpolation from specutils: ",A_specutils)


A_spectres,iskeepon = integral.integralall( new_disp_grid_4_33,model_resampled_4_33,lambda_i,lambda_f )
print("Flux-conserving interpolation from spectres: ",A_spectres)





# Other example, with other limits of integration
lambda_i = 4850.
lambda_f = 5050.

print("Integration from: ",lambda_i,lambda_f)

A_original,iskeepon = integral.integralall( lamb,flux,lambda_i,lambda_f )
print("Original curve: ",A_original)


A_fortran,iskeepon = integral.integralall( new_disp_grid_4_33,orfluxes_4_33,lambda_i,lambda_f )
print("Flux-conserving interpolation from pyfluxconserving: ",A_fortran)


A_specutils,iskeepon = integral.integralall( new_disp_grid_4_33,new_spec_fluxcon_4_33.flux_corr,lambda_i,lambda_f )
print("Flux-conserving interpolation from specutils: ",A_specutils)


A_spectres,iskeepon = integral.integralall( new_disp_grid_4_33,model_resampled_4_33,lambda_i,lambda_f )
print("Flux-conserving interpolation from spectres: ",A_spectres)


print(A_original/A_fortran, A_original/A_spectres,A_original/A_specutils)

# In this case, it works well for all methods/algorithms, since the limits are within the new interpolated array


# And yet another example

lambda_i = 4859.
lambda_f = 5048.3


print("Integration from: ",lambda_i,lambda_f)

A_original,iskeepon = integral.integralall( lamb,flux,lambda_i,lambda_f )
print("Original curve: ",A_original)


A_fortran,iskeepon = integral.integralall( new_disp_grid_4_33,orfluxes_4_33,lambda_i,lambda_f )
print("Flux-conserving interpolation from pyfluxconserving: ",A_fortran)


A_specutils,iskeepon = integral.integralall( new_disp_grid_4_33,new_spec_fluxcon_4_33.flux_corr,lambda_i,lambda_f )
print("Flux-conserving interpolation from specutils: ",A_specutils)


A_spectres,iskeepon = integral.integralall( new_disp_grid_4_33,model_resampled_4_33,lambda_i,lambda_f )
print("Flux-conserving interpolation from spectres: ",A_spectres)


# Again, it works very well.



